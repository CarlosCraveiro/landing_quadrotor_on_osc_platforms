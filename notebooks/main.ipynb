{
 "cells": [
  {
   "cell_type": "code",
   "execution_count": null,
   "id": "474d6e2b-47c3-45e4-9bf3-2825278497e5",
   "metadata": {},
   "outputs": [],
   "source": [
    "# Configures the Environment (run it once)\n",
    "include(\"configure.jl\")"
   ]
  },
  {
   "cell_type": "markdown",
   "id": "026d33f9-cf63-4c62-96cb-b5eb31e37df1",
   "metadata": {},
   "source": [
    "# Configuration of the Quadrotor"
   ]
  },
  {
   "cell_type": "code",
   "execution_count": null,
   "id": "7e80fddc-eb85-4087-9758-1a9546a61d99",
   "metadata": {},
   "outputs": [],
   "source": [
    "include(\"Model_nd_Dynamics.jl\")\n",
    "include(\"Simulation.jl\")\n",
    "include(\"MPCTunningParams.jl\")\n",
    "include(\"Trajectory.jl\")\n",
    "include(\"MPC.jl\")\n",
    "include(\"Close_loop.jl\")\n",
    "include(\"LQR.jl\")"
   ]
  },
  {
   "cell_type": "code",
   "execution_count": null,
   "id": "3fbdfb07-5016-401c-ac68-8e268853e5b8",
   "metadata": {},
   "outputs": [],
   "source": [
    "model = Model(0.0, 0.0, 0.0, I(3), 0.0, 0.0, 0.0, zeros(4), zeros(4),0.0,0.0, 0, 0)\n",
    "model.g = 9.81 # [m/s^2]\n",
    "model.m = 0.028 # [kg]\n",
    "model.ℓ = 0.0460 # [meters]\n",
    "model.J = 1e-6 * [\n",
    "    16.571710   0.830806   0.718277\n",
    "     0.830806  16.655602   1.800197\n",
    "     0.718277   1.800197  29.261652\n",
    "] # [kg . m^2]\n",
    "model.R = 0.0235 # [meters]\n",
    "model.prop_min_h = 0.1 # [meters]\n",
    "model.ρ = 1.0 # dimensionless\n",
    "model.kt = 1.28e-8\n",
    "model.km = model.kt * 0.00596\n",
    "model.Nx = 13\n",
    "model.Nu = 4\n",
    "\n",
    "#Thrust limits\n",
    "model.umin = 0.0 * model.m * model.g * ones(4)\n",
    "model.umax = 2.5 * model.m * model.g * ones(4)\n",
    "\n",
    "## Simulation Configs\n",
    "#\n",
    "# Universe 1000Hz\n",
    "# Controller 100Hz\n",
    "\n",
    "h_universe = 0.0001 # Time step (10 kHz)\n",
    "h_controller = 0.001 # Time step (200 Hz)\n",
    "Tfinal = 10.0 # Simulate from 0 - 10 seconds\n",
    "\n",
    "simulation = Simulation(h_universe, h_controller, Tfinal)\n",
    "\n",
    "landing_start_height = 3.0\n",
    "stationary_height = model.prop_min_h + 0.06 # 6 centimeters above the ground\n",
    "plat_amplitude = 0.1\n",
    "plat_freq = 0.3\n",
    "\n",
    "traj_params = Trajectory(plat_amplitude, plat_freq, landing_start_height, stationary_height)\n",
    "\n",
    "state_space = LinearStateSpace(model, simulation, (model.Nx - 1), model.Nu, stationary_height)\n",
    "\n",
    "Nh = 20\n",
    "Nc = 19 # Vai de 0 até (Nh -1)\n",
    "\n",
    "# Cost weights\n",
    "#Q = Array(10.0*I(Nx));\n",
    "#Q[3,3] = 1000.0\n",
    "#R = Array(.01*I(Nu));\n",
    "Q = Array(I(model.Nx - 1));\n",
    "R = Array(.1*I(model.Nu));\n",
    "\n",
    "tunning_params = MPCTunningParameters(Nh, Nc, Q, R)\n",
    "\n",
    "mpc_mats =  MPCMatrices(model, state_space, tunning_params)\n",
    "\n",
    "# Initial State!\n",
    "theta = 10 * pi / 180  # 10 graus em rad\n",
    "q0 = [cos(theta/2), sin(theta/2), 0.0, 0.0]\n",
    "x0 = [1.0; 2.0; traj_params.init_heigth; q0 ; 0.0; 0.0; 0.0; 0.0; 0.0; 0.0]\n",
    "\n",
    "#xhist1, uhist1 = closed_loop(x0, (t,x)->lqr_controller(t,x,K,x_ref), Nt);\n",
    "#xhist2, uhist2 = closed_loop(x0, (t,x)->mpc_controller(t,x,x_ref), Nt);\n",
    "#xhist3, uhist3, plathist3, refyhist3, drefyhist3, land_time, land_mark = closed_loop(\n",
    "out = closed_loop(\n",
    "    x0,\n",
    "    state_space,\n",
    "    tunning_params, \n",
    "    traj_params,\n",
    "    simulation,\n",
    "    model,\n",
    "\n",
    "    (t, x) -> mpc_controller(\n",
    "        model,\n",
    "        simulation,\n",
    "        tunning_params,\n",
    "        traj_params,\n",
    "        state_space,\n",
    "        mpc_mats,\n",
    "        t,\n",
    "        x, \n",
    "        gen_ref(model, traj_params, tunning_params, t, simulation.h_controller) # verify if this works as expected!!\n",
    "    )\n",
    ");"
   ]
  },
  {
   "cell_type": "code",
   "execution_count": null,
   "id": "fecd2787-fb0a-48b3-aba1-ced598769886",
   "metadata": {},
   "outputs": [],
   "source": [
    "out_lqr = closed_loop(\n",
    "    x0,\n",
    "    state_space,\n",
    "    tunning_params, \n",
    "    traj_params,\n",
    "    simulation,\n",
    "    model,\n",
    "\n",
    "    (t, x) -> lqr_controller(\n",
    "        model,\n",
    "        simulation,\n",
    "        tunning_params,\n",
    "        traj_params,\n",
    "        state_space,\n",
    "        t,\n",
    "        x, \n",
    "        gen_ref(model, traj_params, tunning_params, t, simulation.h_controller) # verify if this works as expected!!\n",
    "    )\n",
    ");"
   ]
  },
  {
   "cell_type": "code",
   "execution_count": null,
   "id": "c51b0043-98ee-4da5-90df-7a4f1d51957e",
   "metadata": {},
   "outputs": [],
   "source": [
    "using Plots\n",
    "\n",
    "thist = Array(range(0, simulation.h_universe * (simulation.Nt_universe - 1), step = simulation.h_universe));\n",
    "\n",
    "# Define máximo de pontos que queremos exibir\n",
    "max_points = 1000\n",
    "\n",
    "# Calcula índice de salto (skip)\n",
    "stride = max(1, floor(Int, length(thist) / max_points))\n",
    "\n",
    "# Aplica o salto nos pontos\n",
    "thist_sampled = thist[1:stride:end]\n",
    "x_sampled = out.x_quad[1,1:stride:end]\n",
    "x_lqr = out_lqr.x_quad[1,1:stride:end]\n",
    "\n",
    "# Plota linha reduzida\n",
    "plot(thist_sampled, x_sampled, label=\"x MPC\")\n",
    "plot!(thist_sampled, x_lqr, label=\"x LQR\")\n",
    "\n",
    "# Mantém o scatter do ponto especial\n",
    "scatter!([out.land_time], [out.x_quad[1, out.land_mark]], label=\"Mark\", color=:red, markersize=4)\n",
    "\n",
    "xlabel!(\"time\")\n",
    "\n",
    "#savefig(\"Test01.svg\")"
   ]
  },
  {
   "cell_type": "code",
   "execution_count": null,
   "id": "71ac027b-bbc8-46d1-8af0-fa78ef49c64b",
   "metadata": {},
   "outputs": [],
   "source": [
    "# Aplica o salto nos pontos\n",
    "x_dot_sampled = out.x_quad[8,1:stride:end]\n",
    "\n",
    "plot(thist_sampled, x_dot_sampled, label=\"x dot MPC\")\n",
    "scatter!([out.land_time], [out.x_quad[8, out.land_mark]], label=\"Mark\", color=:red, markersize=4)\n",
    "\n",
    "xlabel!(\"time\")"
   ]
  },
  {
   "cell_type": "code",
   "execution_count": null,
   "id": "8c639ce6-3e44-40ae-9826-ef99415e9ee1",
   "metadata": {},
   "outputs": [],
   "source": [
    "# Aplica o salto nos pontos\n",
    "y_sampled = out.x_quad[2,1:stride:end]\n",
    "\n",
    "plot(thist_sampled, y_sampled, label=\"y MPC\")\n",
    "scatter!([out.land_time], [out.x_quad[2, out.land_mark]], label=\"Mark\", color=:red, markersize=4)\n",
    "\n",
    "xlabel!(\"time\")"
   ]
  },
  {
   "cell_type": "code",
   "execution_count": null,
   "id": "edf8f808-fd62-4c0b-8d61-a6b031f8b595",
   "metadata": {},
   "outputs": [],
   "source": [
    "# Aplica o salto nos pontos\n",
    "y_dot_sampled = out.x_quad[9,1:stride:end]\n",
    "\n",
    "plot(thist_sampled, y_dot_sampled, label=\"y dot MPC\")\n",
    "scatter!([out.land_time], [out.x_quad[9, out.land_mark]], label=\"Mark\", color=:red, markersize=4)\n",
    "\n",
    "xlabel!(\"time\")"
   ]
  },
  {
   "cell_type": "code",
   "execution_count": null,
   "id": "423ff840-7416-4cef-b24e-329d669bb309",
   "metadata": {},
   "outputs": [],
   "source": [
    "# Aplica o salto nos pontos\n",
    "#θ_sampled = out.x_quad[3,1:stride:end]\n",
    "\n",
    "#plot(thist_sampled, θ_sampled, label=\"θ MPC\")\n",
    "\n",
    "#scatter!([land_time], [out.x_quad[3,land_mark]], label=\"Mark\", color=:red, markersize=4)\n",
    "#xlabel!(\"time\")"
   ]
  },
  {
   "cell_type": "code",
   "execution_count": null,
   "id": "f3aa0991-a293-4fdb-9df1-f97786956a2e",
   "metadata": {},
   "outputs": [],
   "source": [
    "# Aplica o salto nos pontos\n",
    "#θ_dot_sampled = out.x_quad[6,1:stride:end]\n",
    "\n",
    "#plot(thist, out.x_quad[6, :], label=\"θ dot MPC\")\n",
    "#scatter!([land_time], [out.x_quad[6,land_mark]], label=\"Mark\", color=:red, markersize=4)\n",
    "\n",
    "#xlabel!(\"time\")"
   ]
  },
  {
   "cell_type": "code",
   "execution_count": null,
   "id": "808e779b-6bb3-40cc-a8ad-596c6187100c",
   "metadata": {},
   "outputs": [],
   "source": [
    "# Aplica o salto nos pontos\n",
    "z_quad_sampled = out.x_quad[3,1:stride:end]\n",
    "z_plat_sampled = out.x_plat[3,1:stride:end]\n",
    "z_ref_sampled = out.x_ref[3,1:stride:end]\n",
    "z_lqr = out_lqr.x_quad[3,1:stride:end]\n",
    "\n",
    "## Plot de interesse\n",
    "plot(thist_sampled, z_quad_sampled, label=\"Posição z - MPC\")\n",
    "\n",
    "plot!(thist_sampled, z_lqr, label=\"Posição z - LQR\")\n",
    "plot!(thist_sampled, z_ref_sampled, label=\"Trajetória de referência\")\n",
    "plot!(thist_sampled, z_plat_sampled, label=\"Plataforma\")\n",
    "\n",
    "xlabel!(\"Tempo (s)\")\n",
    "ylabel!(\"Altura (m)\")\n",
    "scatter!([out.land_time], [out.x_quad[3, out.land_mark]], label=\"Pouso decretado\", color=:red, markersize=4)\n",
    "title!(\"Perfil de Altura durante o Pouso\")\n",
    "\n",
    "#savefig(\"perfil_altura_pouso.png\")"
   ]
  },
  {
   "cell_type": "code",
   "execution_count": null,
   "id": "c5a71617-b39c-4c75-8893-23c8c76c42a1",
   "metadata": {},
   "outputs": [],
   "source": [
    "# Aplica o salto nos pontos\n",
    "z_dot_sampled = out.x_quad[10,1:stride:end]\n",
    "drefz_sampled = out.x_ref[10,1:stride:end]\n",
    "\n",
    "plot(thist_sampled, z_dot_sampled, label=\"z dot MPC\")\n",
    "plot!(thist_sampled, drefz_sampled, label=\"cos\")\n",
    "\n",
    "xlabel!(\"time\")\n",
    "scatter!([out.land_time], [out.x_quad[10, out.land_mark]], label=\"Mark\", color=:red, markersize=4)"
   ]
  },
  {
   "cell_type": "code",
   "execution_count": null,
   "id": "01bf89aa-62f2-46a2-a1ba-e959b4cb8e15",
   "metadata": {},
   "outputs": [],
   "source": [
    "# Aplica o salto nos pontos\n",
    "u1_sampled = out.u_quad[1,1:stride:end]\n",
    "\n",
    "plot(thist_sampled[1:end-1], u1_sampled, label=\"u1 MPC\")\n",
    "xlabel!(\"Time\")"
   ]
  },
  {
   "cell_type": "code",
   "execution_count": null,
   "id": "aa9a268f-79e3-4b29-84a6-cfddba9a43b5",
   "metadata": {},
   "outputs": [],
   "source": [
    "# Aplica o salto nos pontos\n",
    "u2_sampled = out.u_quad[2,1:stride:end]\n",
    "\n",
    "plot(thist_sampled[1:end-1], u2_sampled, label=\"u2 MPC\")\n",
    "xlabel!(\"Time\")"
   ]
  },
  {
   "cell_type": "code",
   "execution_count": null,
   "id": "c6a7f115-484f-4e92-9e7c-12157cf06bdc",
   "metadata": {},
   "outputs": [],
   "source": [
    "# Aplica o salto nos pontos\n",
    "u3_sampled = out.u_quad[3,1:stride:end]\n",
    "\n",
    "plot(thist_sampled[1:end-1], u3_sampled, label=\"u3 MPC\")\n",
    "xlabel!(\"Time\")"
   ]
  },
  {
   "cell_type": "code",
   "execution_count": null,
   "id": "dcd466be-c4cd-4c35-be09-05fc5a68c2c1",
   "metadata": {},
   "outputs": [],
   "source": [
    "# Aplica o salto nos pontos\n",
    "u4_sampled = out.u_quad[4,1:stride:end]\n",
    "\n",
    "plot(thist_sampled[1:end-1], u4_sampled, label=\"u4 MPC\")\n",
    "xlabel!(\"Time\")"
   ]
  },
  {
   "cell_type": "code",
   "execution_count": null,
   "id": "ab73eb45-54ad-4183-8d20-c8f544742440",
   "metadata": {},
   "outputs": [],
   "source": [
    "#Set up visualization\n",
    "using TrajOptPlots\n",
    "using MeshCat\n",
    "using StaticArrays\n",
    "using RobotZoo:Quadrotor\n",
    "\n",
    "vis = Visualizer()\n",
    "render(vis)"
   ]
  },
  {
   "cell_type": "code",
   "execution_count": null,
   "id": "e2a49594-2e16-46ed-baae-de339f2ed327",
   "metadata": {},
   "outputs": [],
   "source": [
    "model = Quadrotor()\n",
    "TrajOptPlots.set_mesh!(vis, model)"
   ]
  },
  {
   "cell_type": "code",
   "execution_count": null,
   "id": "525abcc7-9d6e-4eb8-859e-e07fe51f1550",
   "metadata": {},
   "outputs": [],
   "source": [
    "X1 = [SVector{13}(x) for x in eachcol(out.x_quad[:,1:10:end])];\n",
    "\n",
    "visualize!(vis, model, thist[end], X1)"
   ]
  },
  {
   "cell_type": "code",
   "execution_count": null,
   "id": "c2ea74db-2dae-450b-a986-6302232c0ec1",
   "metadata": {},
   "outputs": [],
   "source": []
  }
 ],
 "metadata": {
  "kernelspec": {
   "display_name": "Julia 1.10.9",
   "language": "julia",
   "name": "julia-1.10"
  },
  "language_info": {
   "file_extension": ".jl",
   "mimetype": "application/julia",
   "name": "julia",
   "version": "1.10.9"
  }
 },
 "nbformat": 4,
 "nbformat_minor": 5
}

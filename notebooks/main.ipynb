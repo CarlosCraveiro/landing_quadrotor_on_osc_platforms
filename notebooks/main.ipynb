{
 "cells": [
  {
   "cell_type": "markdown",
   "id": "9e7fb8b9-921e-4588-b91b-e96222827d9a",
   "metadata": {},
   "source": [
    "# Quadrotor Landing Simulation on Oscillating Platform\n",
    "\n",
    "This notebook implements a **closed-loop simulation** of a quadrotor attempting to land\n",
    "on an oscillating platform. It integrates the system dynamics, generates reference trajectories,\n",
    "and evaluates control strategies such as **MPC** and **LQR**.\n",
    "\n",
    "The project models:\n",
    "- Full nonlinear quadrotor dynamics with **ground effect**, **wind disturbances**, and **aerodynamic drag**.\n",
    "- A moving landing platform with configurable oscillation patterns.\n",
    "- Controllers to track desired trajectories and achieve safe landing.\n",
    "\n",
    "Use this notebook to:\n",
    "1. Configure the simulation environment.\n",
    "2. Define model and trajectory parameters.\n",
    "3. Run the closed-loop simulation.\n",
    "4. Visualize and analyze the quadrotor's landing performance."
   ]
  },
  {
   "cell_type": "markdown",
   "id": "7ca731ed-c241-40c1-9b84-5955f15724f6",
   "metadata": {},
   "source": [
    "## Environment Configuration\n",
    "\n",
    "Before running any simulation or control routines, you need to configure the environment.  \n",
    "This step loads all required packages, sets up paths, and initializes the project settings.  \n",
    "\n",
    "> **Note:** Run this cell **only once** at the start of your session to avoid reloading\n",
    "> dependencies multiple times."
   ]
  },
  {
   "cell_type": "code",
   "execution_count": null,
   "id": "474d6e2b-47c3-45e4-9bf3-2825278497e5",
   "metadata": {},
   "outputs": [],
   "source": [
    "# Configures the Environment (run it once)\n",
    "include(\"../src/configure.jl\")"
   ]
  },
  {
   "cell_type": "markdown",
   "id": "026d33f9-cf63-4c62-96cb-b5eb31e37df1",
   "metadata": {},
   "source": [
    "## Load Modules and Configure Model Parameters\n",
    "\n",
    "In this section, we:\n",
    "\n",
    "1. **Include the core source files**, which define the main components of the simulation:\n",
    "   - `Model_nd_Dynamics.jl`: Quadrotor physical model and dynamics.\n",
    "   - `Simulation.jl`: Simulation configuration and timing.\n",
    "   - `MPCTunningParams.jl`: Parameters for tuning the MPC controller.\n",
    "   - `Trajectory.jl`: Trajectory generation for the platform and quadrotor.\n",
    "   - `MPC.jl`: MPC controller implementation.\n",
    "   - `Close_loop.jl`: Closed-loop simulation logic.\n",
    "   - `LQR.jl`: LQR controller implementation."
   ]
  },
  {
   "cell_type": "code",
   "execution_count": null,
   "id": "7e80fddc-eb85-4087-9758-1a9546a61d99",
   "metadata": {},
   "outputs": [],
   "source": [
    "include(\"../src/Model_nd_Dynamics.jl\")\n",
    "include(\"../src/Simulation.jl\")\n",
    "include(\"../src/MPCTunningParams.jl\")\n",
    "include(\"../src/Trajectory.jl\")\n",
    "include(\"../src/MPC.jl\")\n",
    "include(\"../src/Close_loop.jl\")\n",
    "include(\"../src/LQR.jl\")"
   ]
  },
  {
   "cell_type": "markdown",
   "id": "fdb539aa-f992-44d8-8b28-38c0edb9574d",
   "metadata": {},
   "source": [
    "2. **Initialize the quadrotor model** with its physical parameters, including:\n",
    "   - Mass, gravity, geometry, inertia matrix.\n",
    "   - Propeller properties and thrust limits.\n",
    "   - Aerodynamic drag matrix.\n",
    "\n",
    "3. **Configure the simulation**, defining:\n",
    "   - Time step for the plant (`h_universe`).\n",
    "   - Time step for the controller (`h_controller`).\n",
    "   - Total simulation time (`Tfinal`).\n",
    "\n",
    "4. **Set up the trajectory parameters**, including:\n",
    "   - Initial height of the quadrotor.\n",
    "   - Stationary height for landing.\n",
    "   - Oscillation amplitude and frequency of the landing platform.\n",
    "\n",
    "5. **Define controller tuning**, such as:\n",
    "   - Prediction horizon (`Nh`) and control horizon (`Nc`).\n",
    "   - Cost weights (`Q` and `R`) for the MPC controller.\n",
    "\n",
    "6. **Specify initial conditions**, including:\n",
    "   - Initial state vector `x0` with position, orientation, velocities, etc.\n",
    "   - Wind vector and velocity for environmental disturbances."
   ]
  },
  {
   "cell_type": "code",
   "execution_count": null,
   "id": "3fbdfb07-5016-401c-ac68-8e268853e5b8",
   "metadata": {},
   "outputs": [],
   "source": [
    "model = Model(0.0, 0.0, 0.0, I(3), 0.0, 0.0, 0.0, zeros(4), zeros(4),0.0,0.0, 0, 0, I(3))\n",
    "model.g = 9.81 # [m/s^2]\n",
    "model.m = 0.028 # [kg]\n",
    "model.ℓ = 0.0460 # [meters]\n",
    "model.J = 1e-6 * [\n",
    "    16.571710   0.830806   0.718277\n",
    "     0.830806  16.655602   1.800197\n",
    "     0.718277   1.800197  29.261652\n",
    "] # [kg . m^2]\n",
    "model.R = 0.0235 # [meters]\n",
    "model.prop_min_h = 0.1 # [meters]\n",
    "model.ρ = 3.6 # dimensionless\n",
    "model.kt = 1.28e-8\n",
    "model.km = model.kt * 0.00596\n",
    "model.Nx = 13\n",
    "model.Nu = 4\n",
    "\n",
    "#Thrust limits\n",
    "model.umin = 0 * model.g * ones(4)\n",
    "model.umax = 0.58 * model.m * model.g * ones(4)\n",
    "\n",
    "model.K_aero = 1e-7 * [ 9.1785   0.0000   0.0000;\n",
    "                         0.0000   9.1785   0.0000;\n",
    "                         0.0000   0.0000   10.311 ]\n",
    "\n",
    "## Simulation Configs\n",
    "h_universe = 0.0001 # Time step (10 kHz)\n",
    "h_controller = 0.002 # Time step (500 Hz)\n",
    "Tfinal = 10.0 # Simulate from 0 - 10 seconds\n",
    "\n",
    "simulation = Simulation(h_universe, h_controller, Tfinal)\n",
    "\n",
    "landing_start_height = 3.0\n",
    "stationary_height = model.prop_min_h + 0.06 # 6 centimeters above the ground\n",
    "plat_amplitude = 0.1\n",
    "plat_freq = 0.3\n",
    "\n",
    "traj_params = Trajectory(plat_amplitude, plat_freq, landing_start_height, stationary_height)\n",
    "\n",
    "state_space = LinearStateSpace(model, simulation, (model.Nx - 1), model.Nu, stationary_height)\n",
    "\n",
    "Nh = 20\n",
    "Nc = 19 # Goes from 0 to (Nh -1)\n",
    "\n",
    "# Cost weights\n",
    "Q = Array(100.0*I(model.Nx - 1));\n",
    "R = Array(.1*I(model.Nu));\n",
    "\n",
    "tunning_params = MPCTunningParameters(Nh, Nc, Q, R)\n",
    "\n",
    "mpc_mats =  MPCMatrices(model, state_space, tunning_params)\n",
    "\n",
    "# Initial State!\n",
    "theta = 45 * pi / 180  # from degrees to rad\n",
    "q0 = [cos(theta/2), sin(theta/2), 0.0, 0.0]\n",
    "x0 = [1.0; 2.0; traj_params.init_heigth; q0 ; 0.0; 0.0; 0.0; 0.0; 0.0; 0.0]\n",
    "\n",
    "wind_vec = [0.0, 1.0, 0.0]\n",
    "wind_velocity = 0.0; # m/s"
   ]
  },
  {
   "cell_type": "markdown",
   "id": "ef78b850-637c-4049-800b-0e3923f89155",
   "metadata": {},
   "source": [
    "## Run Closed-Loop Simulations (MPC vs LQR)\n",
    "\n",
    "This section runs two full-duration simulations of the quadrotor–platform system:\n",
    "\n",
    "- **`out` (MPC):** Uses an anonymous controller that calls `mpc_controller(...)` each controller step,\n",
    "  passing the current time/state and the reference `gen_ref(...)` computed at `h_controller`.\n",
    "- **`out_lqr` (LQR):** Same setup, but using `lqr_controller(...)`.\n",
    "\n",
    "Both runs:\n",
    "- Use identical initial conditions, model, simulation, and wind settings.\n",
    "- Execute `closed_loop(...)`, which logs states, inputs, references, platform states,\n",
    "  landing markers, and timing into a `SimResults` struct.\n",
    "- Allow fair performance comparison between MPC and LQR under the same conditions."
   ]
  },
  {
   "cell_type": "code",
   "execution_count": null,
   "id": "5fd217ba-7eef-4524-9209-ea1feb05f238",
   "metadata": {},
   "outputs": [],
   "source": [
    "out = closed_loop(\n",
    "    x0,\n",
    "    state_space,\n",
    "    tunning_params, \n",
    "    traj_params,\n",
    "    simulation,\n",
    "    model,\n",
    "\n",
    "    (t, x) -> mpc_controller(\n",
    "        model,\n",
    "        simulation,\n",
    "        tunning_params,\n",
    "        traj_params,\n",
    "        state_space,\n",
    "        mpc_mats,\n",
    "        t,\n",
    "        x, \n",
    "        gen_ref(model, traj_params, tunning_params, t, simulation.h_controller) # verify if this works as expected!!\n",
    "    ),\n",
    "    wind_vec,\n",
    "    wind_velocity\n",
    ");"
   ]
  },
  {
   "cell_type": "code",
   "execution_count": null,
   "id": "fecd2787-fb0a-48b3-aba1-ced598769886",
   "metadata": {},
   "outputs": [],
   "source": [
    "out_lqr = closed_loop(\n",
    "    x0,\n",
    "    state_space,\n",
    "    tunning_params, \n",
    "    traj_params,\n",
    "    simulation,\n",
    "    model,\n",
    "\n",
    "    (t, x) -> lqr_controller(\n",
    "        model,\n",
    "        simulation,\n",
    "        tunning_params,\n",
    "        traj_params,\n",
    "        state_space,\n",
    "        t,\n",
    "        x, \n",
    "        gen_ref(model, traj_params, tunning_params, t, simulation.h_controller) # verify if this works as expected!!\n",
    "    ),\n",
    "    wind_vec,\n",
    "    wind_velocity\n",
    ");"
   ]
  },
  {
   "cell_type": "markdown",
   "id": "33d0093c-06ec-4add-b371-c5b99d3fbcb4",
   "metadata": {},
   "source": [
    "## Results Visualization\n",
    "\n",
    "This section generates plots to **analyze and compare** the performance of the two controllers\n",
    "(MPC and LQR) over the full simulation.\n",
    "\n",
    "- **Position states (`x`, `y`, `z`)** and **velocities (`dx`, `dy`, `dz`)** are plotted to\n",
    "  evaluate tracking performance and landing behavior.\n",
    "- **Attitude error** is shown to measure the quadrotor's orientation accuracy.\n",
    "- **Control inputs (`u₁` to `u₄`)** are visualized to verify that motor thrusts remain within\n",
    "  the defined limits."
   ]
  },
  {
   "cell_type": "code",
   "execution_count": null,
   "id": "babe4a2d-6880-4de4-80d5-0bd63c8fa167",
   "metadata": {},
   "outputs": [],
   "source": [
    "include(\"../src/Report.jl\")\n",
    "\n",
    "thist = Array(range(0, simulation.h_universe * (simulation.Nt_universe - 1), step = simulation.h_universe));"
   ]
  },
  {
   "cell_type": "code",
   "execution_count": null,
   "id": "b5886673-3ba4-4cff-9987-7017da477f36",
   "metadata": {},
   "outputs": [],
   "source": [
    "plot_state(1, \"x\", \"m\", out, out_lqr, thist)"
   ]
  },
  {
   "cell_type": "code",
   "execution_count": null,
   "id": "c51b0043-98ee-4da5-90df-7a4f1d51957e",
   "metadata": {},
   "outputs": [],
   "source": [
    "plot_state(2, \"y\", \"m\", out, out_lqr, thist)"
   ]
  },
  {
   "cell_type": "code",
   "execution_count": null,
   "id": "e8d85f19-dbcc-435e-9319-7c42c4e5c2a3",
   "metadata": {},
   "outputs": [],
   "source": [
    "plot_state(3, \"z\", \"m\", out, out_lqr, thist)"
   ]
  },
  {
   "cell_type": "code",
   "execution_count": null,
   "id": "3c0bb5a7-0fbd-4142-aec8-487d87c780a5",
   "metadata": {},
   "outputs": [],
   "source": [
    "plot_state(8, \"dx\", \"m/s\", out, out_lqr, thist)"
   ]
  },
  {
   "cell_type": "code",
   "execution_count": null,
   "id": "0ae494d7-1b93-42a7-a87a-c7e07850637e",
   "metadata": {},
   "outputs": [],
   "source": [
    "plot_state(9, \"dy\", \"m/s\", out, out_lqr, thist)"
   ]
  },
  {
   "cell_type": "code",
   "execution_count": null,
   "id": "cb83b184-7300-43ee-9a65-9b71c09dba94",
   "metadata": {},
   "outputs": [],
   "source": [
    "plot_state(10, \"dz\", \"m/s\", out, out_lqr, thist)"
   ]
  },
  {
   "cell_type": "code",
   "execution_count": null,
   "id": "1b0cd8ab-c068-490c-b82c-7d5460114615",
   "metadata": {},
   "outputs": [],
   "source": [
    "plot_attitude_error(out, out_lqr, thist)"
   ]
  },
  {
   "cell_type": "code",
   "execution_count": null,
   "id": "060160b1-35d6-4ee8-864e-71d2024cc204",
   "metadata": {},
   "outputs": [],
   "source": [
    "plot_u(1, out, out_lqr, thist, model)"
   ]
  },
  {
   "cell_type": "code",
   "execution_count": null,
   "id": "01bf89aa-62f2-46a2-a1ba-e959b4cb8e15",
   "metadata": {},
   "outputs": [],
   "source": [
    "plot_u(2, out, out_lqr, thist, model)"
   ]
  },
  {
   "cell_type": "code",
   "execution_count": null,
   "id": "aa9a268f-79e3-4b29-84a6-cfddba9a43b5",
   "metadata": {},
   "outputs": [],
   "source": [
    "plot_u(3, out, out_lqr, thist, model)"
   ]
  },
  {
   "cell_type": "code",
   "execution_count": null,
   "id": "d2c77d23-00a0-4265-8f13-f4d1aaecbb4d",
   "metadata": {},
   "outputs": [],
   "source": [
    "plot_u(4, out, out_lqr, thist, model)"
   ]
  },
  {
   "cell_type": "markdown",
   "id": "c0e5bb5f-b32f-4880-8429-c100b7ae3daf",
   "metadata": {},
   "source": [
    "## 3D Trajectory Playback (MeshCat)\n",
    "\n",
    "This cell sets up an interactive **3D visualization** of the quadrotor flight path using\n",
    "`MeshCat` and `TrajOptPlots`.\n",
    "\n",
    "- Loads a quadrotor mesh and opens a WebGL viewer in the notebook.\n",
    "- Samples the simulated states every 10 steps (`1:10:end`) to keep playback smooth.\n",
    "- Plays the motion for the full simulation duration (`thist[end]`).\n",
    "\n",
    "> **Note:** Only the **quadrotor** is rendered here—the oscillating **platform is not shown**.\n",
    "> Use these visuals as an alternative way to explore the flown trajectory."
   ]
  },
  {
   "cell_type": "code",
   "execution_count": null,
   "id": "ab73eb45-54ad-4183-8d20-c8f544742440",
   "metadata": {},
   "outputs": [],
   "source": [
    "#Set up visualization\n",
    "using TrajOptPlots\n",
    "using MeshCat\n",
    "using StaticArrays\n",
    "using RobotZoo:Quadrotor\n",
    "\n",
    "vis = Visualizer()\n",
    "render(vis)"
   ]
  },
  {
   "cell_type": "code",
   "execution_count": null,
   "id": "e2a49594-2e16-46ed-baae-de339f2ed327",
   "metadata": {},
   "outputs": [],
   "source": [
    "quad_model = Quadrotor()\n",
    "TrajOptPlots.set_mesh!(vis, quad_model)"
   ]
  },
  {
   "cell_type": "code",
   "execution_count": null,
   "id": "525abcc7-9d6e-4eb8-859e-e07fe51f1550",
   "metadata": {},
   "outputs": [],
   "source": [
    "X1 = [SVector{13}(x) for x in eachcol(out.x_quad[:,1:10:end])];\n",
    "\n",
    "visualize!(vis, quad_model, thist[end], X1)"
   ]
  }
 ],
 "metadata": {
  "kernelspec": {
   "display_name": "Julia 1.10.9",
   "language": "julia",
   "name": "julia-1.10"
  },
  "language_info": {
   "file_extension": ".jl",
   "mimetype": "application/julia",
   "name": "julia",
   "version": "1.10.9"
  }
 },
 "nbformat": 4,
 "nbformat_minor": 5
}
